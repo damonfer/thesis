{
 "cells": [
  {
   "cell_type": "code",
   "execution_count": 2,
   "metadata": {},
   "outputs": [],
   "source": [
    "import pandas as pd\n",
    "import matplotlib.pyplot as plt\n",
    "import seaborn as sns\n",
    "import numpy as np"
   ]
  },
  {
   "cell_type": "code",
   "execution_count": 3,
   "metadata": {},
   "outputs": [],
   "source": [
    "df = pd.read_excel('Opta.xls')"
   ]
  },
  {
   "cell_type": "code",
   "execution_count": 5,
   "metadata": {},
   "outputs": [],
   "source": [
    "rows_missing = df[df['Player Forename'].isnull()]\n",
    "selected_clumns = ['Player ID', 'Player Surname', 'Player Forename', 'Team']\n",
    "rows_missing = rows_missing[selected_clumns]\n",
    "unique_missing = rows_missing['Player Surname'].unique().tolist()"
   ]
  },
  {
   "cell_type": "code",
   "execution_count": 6,
   "metadata": {},
   "outputs": [],
   "source": [
    "\n",
    "# Filter rows with missing values in the 'Player Forename' column and unique Player Surnames\n",
    "rows_to_transform = df[df['Player Forename'].isnull() & df['Player Surname'].isin(unique_missing)]\n",
    "\n",
    "# Define a function to split names based on the cases you mentioned\n",
    "def split_name(full_name):\n",
    "    if ' ' not in full_name:  # Single name\n",
    "        return ('', full_name)\n",
    "    else:\n",
    "        parts = full_name.split(' ')\n",
    "        if len(parts) == 2:  # Western name\n",
    "            return (parts[0], parts[1])\n",
    "        else:  # Asian name\n",
    "            return (parts[1], parts[0])  # Swap the positions for Asian names\n",
    "\n",
    "# Apply the split_name function and create two new columns\n",
    "split_names = rows_to_transform['Player Surname'].apply(split_name).apply(pd.Series)\n",
    "split_names.columns = ['Player Forename', 'Player Surname']\n",
    "\n",
    "# Update df with the modified rows\n",
    "df.update(split_names)"
   ]
  },
  {
   "cell_type": "code",
   "execution_count": 7,
   "metadata": {},
   "outputs": [],
   "source": [
    "# List of the Asian names that were swapped\n",
    "specific_names = ['Ji Dong-Won', 'Lee Chung-Yong', 'Park Chu-Young', 'Park Ji-Sung']\n",
    "\n",
    "# Iterate through the DataFrame and swap values for the specific names\n",
    "for name in specific_names:\n",
    "    surname, forename = name.split()\n",
    "    df.loc[df['Player Surname'] == forename, 'Player Surname'], df.loc[df['Player Forename'] == surname, 'Player Forename'] = surname, forename"
   ]
  },
  {
   "cell_type": "code",
   "execution_count": 8,
   "metadata": {},
   "outputs": [],
   "source": [
    "# List of columns to exclude from summation\n",
    "exclude_columns = [\n",
    "    'Index', 'Date', 'Player ID', 'Player Surname', 'Player Forename', 'Team',\n",
    "    'Team Id', 'Opposition', 'Opposition id', 'Venue', 'Position Id',\n",
    "    'Team Formation', 'Position in Formation', 'CompId', 'SeasId'\n",
    "]\n",
    "\n",
    "# Identify columns to sum (exclude those in the exclude_columns list)\n",
    "sum_columns = [col for col in df.columns if col not in exclude_columns]\n",
    "\n",
    "# Group by Player ID and sum the data to get stats per player for the whole season\n",
    "summarized_df = df.groupby(['Player ID', 'Player Forename', 'Player Surname'])[sum_columns].sum().reset_index()"
   ]
  },
  {
   "cell_type": "code",
   "execution_count": 9,
   "metadata": {},
   "outputs": [],
   "source": [
    "ylabel = pd.read_excel('Transfermarkt.xlsx')"
   ]
  },
  {
   "cell_type": "code",
   "execution_count": 10,
   "metadata": {},
   "outputs": [],
   "source": [
    "# Merge names in order to merge both datasets on the full player name\n",
    "summarized_df['player_name'] = summarized_df['Player Forename'] + ' ' + summarized_df['Player Surname']"
   ]
  },
  {
   "cell_type": "code",
   "execution_count": 11,
   "metadata": {},
   "outputs": [],
   "source": [
    "# Some names differ, this variable contains the players where the name differs between the 2 datasets\n",
    "missing_names = pd.read_excel('Missing Players.xlsx')"
   ]
  },
  {
   "cell_type": "code",
   "execution_count": 12,
   "metadata": {},
   "outputs": [],
   "source": [
    "# Merge the dataframes based on Player Forename and Player Surname\n",
    "temp_df = pd.merge(summarized_df, missing_names, on=['Player Forename', 'Player Surname'], how='left', suffixes=('', '_missing'))\n",
    "\n",
    "# Update player_name in summarized_df with values from 'ylabel name' in missing_names\n",
    "summarized_df['player_name'] = temp_df['ylabel name'].combine_first(temp_df['player_name'])"
   ]
  },
  {
   "cell_type": "code",
   "execution_count": 13,
   "metadata": {},
   "outputs": [],
   "source": [
    "# Merge summarized_df with ylabel\n",
    "\n",
    "# Filter ylabel based on the condition season_start_year == 2011\n",
    "filtered_ylabel = ylabel[ylabel['season_start_year'] == 2011]\n",
    "\n",
    "\n",
    "# Merge the dataframes based on player_name and the filtered ylabel\n",
    "merged_df = pd.merge(summarized_df, filtered_ylabel[['player_name', 'player_position', 'player_dob', 'player_nationality',\n",
    "                                                     'player_height_mtrs', 'player_foot', 'player_market_value_euro']],\n",
    "                     on='player_name', how='left')\n",
    "\n",
    "\n",
    "\n"
   ]
  },
  {
   "cell_type": "code",
   "execution_count": 14,
   "metadata": {},
   "outputs": [],
   "source": [
    "## Adjust player position\n",
    "merged_df.loc[merged_df['player_name'] == 'David Jones', 'player_position'] = 'Central Midfield'"
   ]
  },
  {
   "cell_type": "code",
   "execution_count": 15,
   "metadata": {},
   "outputs": [],
   "source": [
    "## Transform Date of Birth to Age on the end of the 2011/2012 season to use it for plots\n",
    "from datetime import datetime\n",
    "merged_df['player_dob'] = pd.to_datetime(merged_df['player_dob'])\n",
    "\n",
    "## end of season date \n",
    "end_date = datetime(2012, 5, 13)\n",
    "\n",
    "# Age on end_date\n",
    "merged_df['age'] = merged_df['player_dob'].apply(lambda dob: (end_date - dob).days // 365)"
   ]
  },
  {
   "cell_type": "code",
   "execution_count": 16,
   "metadata": {},
   "outputs": [],
   "source": [
    "# Create shots on target excl goals\n",
    "merged_df['Shots on target excl goals'] = merged_df['Shots On Target inc goals'] - merged_df[ 'Goals']"
   ]
  },
  {
   "cell_type": "code",
   "execution_count": 19,
   "metadata": {},
   "outputs": [],
   "source": [
    "merged_df.to_csv(r\"C:\\Users\\damon\\OneDrive\\Documenten\\Tilburg University\\Master DSS\\Thesis\\merged_data.csv\", index=False)"
   ]
  }
 ],
 "metadata": {
  "kernelspec": {
   "display_name": "Python 3",
   "language": "python",
   "name": "python3"
  },
  "language_info": {
   "codemirror_mode": {
    "name": "ipython",
    "version": 3
   },
   "file_extension": ".py",
   "mimetype": "text/x-python",
   "name": "python",
   "nbconvert_exporter": "python",
   "pygments_lexer": "ipython3",
   "version": "3.10.4"
  }
 },
 "nbformat": 4,
 "nbformat_minor": 2
}
